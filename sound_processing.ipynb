{
 "cells": [
  {
   "cell_type": "markdown",
   "metadata": {
    "colab_type": "text",
    "id": "view-in-github"
   },
   "source": [
    "<a href=\"https://colab.research.google.com/github/te6-in/ENGL437/blob/main/sound_processing.ipynb\" target=\"_parent\"><img src=\"https://colab.research.google.com/assets/colab-badge.svg\" alt=\"Open In Colab\"/></a>"
   ]
  },
  {
   "cell_type": "markdown",
   "metadata": {
    "id": "NhOLUyQcc47r"
   },
   "source": [
    "# Digital Signal Processing\n",
    "> sampling rate(Hz), frequency(Hz), phasor"
   ]
  },
  {
   "cell_type": "code",
   "execution_count": null,
   "metadata": {
    "id": "2WAs2J9dWcUv"
   },
   "outputs": [],
   "source": [
    "import numpy as np\n",
    "import matplotlib.pyplot as plt\n",
    "import IPython.display as ipd"
   ]
  },
  {
   "cell_type": "markdown",
   "metadata": {
    "id": "d3TfZBr7_pd7"
   },
   "source": [
    "### Phasor (sine)\n",
    "- 사인 곡선 generator"
   ]
  },
  {
   "cell_type": "code",
   "execution_count": null,
   "metadata": {
    "id": "PiiWF43_WcU2"
   },
   "outputs": [],
   "source": [
    "# parameter setting\n",
    "amp = 1          # range [0.0, 1.0]\n",
    "sr = 10000       # sampling rate, Hz\n",
    "dur = 0.5        # in seconds\n",
    "freq = 200.0     # sine frequency, Hz\n",
    "phase = 0  # phase, radian"
   ]
  },
  {
   "cell_type": "code",
   "execution_count": null,
   "metadata": {
    "id": "eog54PdaWcU2"
   },
   "outputs": [],
   "source": [
    "# generate sample ticks\n",
    "nSamp = sr * dur # sample의 개수 (10000*0.5 = 5000)\n",
    "samples = np.arange(1, nSamp+1) # [1, 2, 3, ..., 4999, 5000]"
   ]
  },
  {
   "cell_type": "code",
   "execution_count": null,
   "metadata": {
    "id": "qAc8Esm5OlaR"
   },
   "outputs": [],
   "source": [
    "# convert sample to time (sec)\n",
    "t = samples/sr # ticks [1/10000, 2/10000, 3/10000, ..., 4999/10000, 5000/10000(0.5초)]"
   ]
  },
  {
   "cell_type": "code",
   "execution_count": null,
   "metadata": {
    "id": "RSv5Po5sWcU3"
   },
   "outputs": [],
   "source": [
    "# convert time to angle (radian)\n",
    "theta0 = t * 2*np.pi * freq # 0 ~ 6.28 정도 (0.5 * 2*pi * 200)"
   ]
  },
  {
   "cell_type": "code",
   "execution_count": null,
   "metadata": {
    "id": "cesUeSr3OybQ"
   },
   "outputs": [],
   "source": [
    "# shift angle by phase\n",
    "theta = theta0 + phase"
   ]
  },
  {
   "cell_type": "code",
   "execution_count": null,
   "metadata": {
    "id": "89hyLs9mWcU3"
   },
   "outputs": [],
   "source": [
    "# generate signal by sin-phasor\n",
    "s = amp * np.sin(theta) # sin 곡선의 y values (x values === tick이나 theta(radian) 정도가 되겠네요)"
   ]
  },
  {
   "cell_type": "code",
   "execution_count": null,
   "metadata": {
    "colab": {
     "base_uri": "https://localhost:8080/",
     "height": 297
    },
    "id": "VRlMTkzlPMDb",
    "outputId": "73ad1ac9-af65-464e-912c-95faaa90c563"
   },
   "outputs": [],
   "source": [
    "# plot the entire signal\n",
    "plt.plot(theta, s, ':') # (x값, y값, 기호)\n",
    "plt.xlabel('angle (radian)')\n",
    "plt.ylabel('real')"
   ]
  },
  {
   "cell_type": "code",
   "execution_count": null,
   "metadata": {
    "colab": {
     "base_uri": "https://localhost:8080/",
     "height": 297
    },
    "id": "ejSA_EFpaCHV",
    "outputId": "10a6a6bc-c699-4160-aec1-1e37ebbed6f4"
   },
   "outputs": [],
   "source": [
    "# plot the entire signal\n",
    "plt.plot(t, s, ':') # (x값, y값, 기호)\n",
    "plt.xlabel('time (second)')\n",
    "plt.ylabel('real')"
   ]
  },
  {
   "cell_type": "code",
   "execution_count": null,
   "metadata": {
    "colab": {
     "base_uri": "https://localhost:8080/",
     "height": 297
    },
    "id": "3ADA5DXBWcU3",
    "outputId": "07fb3f46-2df8-433c-fe92-35d5e200b0a1"
   },
   "outputs": [],
   "source": [
    "# plot a certain portion of signals\n",
    "# 그래프 앞부분 100개 뽑기 (그래프를 좌우로 확대했다고 보자)\n",
    "sampleRng = np.arange(0,100)\n",
    "plt.plot(t[sampleRng], s[sampleRng], ':')\n",
    "plt.xlabel('time (s)')\n",
    "plt.ylabel('real')"
   ]
  },
  {
   "cell_type": "code",
   "execution_count": null,
   "metadata": {
    "colab": {
     "base_uri": "https://localhost:8080/",
     "height": 61
    },
    "id": "hVYGTtZ6krh-",
    "outputId": "7527f021-6095-48d6-aff6-0006c3613936"
   },
   "outputs": [],
   "source": [
    "ipd.Audio(s, rate=sr)"
   ]
  },
  {
   "cell_type": "markdown",
   "metadata": {
    "id": "wcywBDcCbN17"
   },
   "source": [
    "#### 과제: 여기 밑에 두 개 이해하고 오기 (제출 X)"
   ]
  },
  {
   "cell_type": "code",
   "execution_count": null,
   "metadata": {
    "id": "E2RzJdMYepVH"
   },
   "outputs": [],
   "source": [
    "def phasor_sine(amp, sr, dur, freq, phase):\n",
    "  t = np.arange(1, sr * dur+1)/sr\n",
    "  theta = t * 2*np.pi * freq + phase\n",
    "  s = amp * np.sin(theta)\n",
    "  return s, t, theta"
   ]
  },
  {
   "cell_type": "code",
   "execution_count": null,
   "metadata": {
    "id": "KBF1AzEihCvt"
   },
   "outputs": [],
   "source": [
    "amp = 1; sr = 10000; dur = 1; freq = 110; phase = 0\n",
    "s, t, theta = phasor_sine(amp, sr, dur, freq, phase)\n",
    "ipd.Audio(s, rate=sr)"
   ]
  },
  {
   "cell_type": "markdown",
   "metadata": {
    "id": "UbvPura88cTP"
   },
   "source": [
    "### Phasor (complex)"
   ]
  },
  {
   "cell_type": "code",
   "execution_count": null,
   "metadata": {
    "id": "HE2s1cUu8cTQ"
   },
   "outputs": [],
   "source": [
    "# parameter setting\n",
    "amp = 1          # range [0.0, 1.0]\n",
    "sr = 10000       # sampling rate, Hz\n",
    "dur = 0.5        # in seconds\n",
    "freq = 100.0     # sine frequency, Hz\n",
    "phase = 0  # phase, radian"
   ]
  },
  {
   "cell_type": "code",
   "execution_count": null,
   "metadata": {
    "id": "6EShFMfZ8cTS"
   },
   "outputs": [],
   "source": [
    "# generate sample ticks\n",
    "nSamp = sr * dur\n",
    "samples = np.arange(1, nSamp+1)"
   ]
  },
  {
   "cell_type": "code",
   "execution_count": null,
   "metadata": {
    "id": "Qdfr7oov8cTT"
   },
   "outputs": [],
   "source": [
    "# convert samples to time\n",
    "t = samples/sr"
   ]
  },
  {
   "cell_type": "code",
   "execution_count": null,
   "metadata": {
    "id": "4ZW9EVdm8cTT"
   },
   "outputs": [],
   "source": [
    "# convert time to angle in radian\n",
    "theta0 = t * 2*np.pi * freq"
   ]
  },
  {
   "cell_type": "code",
   "execution_count": null,
   "metadata": {
    "id": "VerbCAtu8cTT"
   },
   "outputs": [],
   "source": [
    "# shift angle by phase\n",
    "theta = theta0 + phase"
   ]
  },
  {
   "cell_type": "code",
   "execution_count": null,
   "metadata": {
    "id": "2i5SwVUN8cTU"
   },
   "outputs": [],
   "source": [
    "# generate signal by complex-phasor\n",
    "c = amp * np.exp(theta*1j)"
   ]
  },
  {
   "cell_type": "code",
   "execution_count": null,
   "metadata": {
    "id": "3ULGOec-8cTU"
   },
   "outputs": [],
   "source": [
    "# plot the entire signal\n",
    "import plotly.graph_objects as go\n",
    "x, y, z = t, c.real, c.imag\n",
    "fig = go.Figure(data=[go.Scatter3d(x=x, y=y, z=z,\n",
    "                                   mode='markers',\n",
    "                                   marker=dict(size=3))])\n",
    "fig.update_layout(scene = dict(\n",
    "                    xaxis_title='time (sec)',\n",
    "                    yaxis_title='real',\n",
    "                    zaxis_title='imag'))\n",
    "fig.show()"
   ]
  },
  {
   "cell_type": "code",
   "execution_count": null,
   "metadata": {
    "id": "O6AdKbO18cTV"
   },
   "outputs": [],
   "source": [
    "# plot a certain portion of signals\n",
    "import plotly.graph_objects as go\n",
    "sampleRng = np.arange(0,100)\n",
    "x, y, z = t[sampleRng], c.real[sampleRng], c.imag[sampleRng]\n",
    "fig = go.Figure(data=[go.Scatter3d(x=x, y=y, z=z,\n",
    "                                   mode='markers',\n",
    "                                   marker=dict(size=3))])\n",
    "fig.update_layout(scene = dict(\n",
    "                    xaxis_title='time (sec)',\n",
    "                    yaxis_title='real',\n",
    "                    zaxis_title='imag'))\n",
    "fig.show()"
   ]
  },
  {
   "cell_type": "code",
   "execution_count": null,
   "metadata": {
    "id": "F9gD4_DY8cTV"
   },
   "outputs": [],
   "source": [
    "ipd.Audio(c, rate=sr)"
   ]
  },
  {
   "cell_type": "code",
   "execution_count": null,
   "metadata": {
    "id": "VtBE8NGz8cTV"
   },
   "outputs": [],
   "source": [
    "def phasor_complex(amp, sr, dur, freq, phase):\n",
    "  t = np.arange(1, sr * dur+1)/sr\n",
    "  theta = t * 2*np.pi * freq + phase\n",
    "  c = amp * np.exp(theta*1j)\n",
    "  return c, t, theta"
   ]
  },
  {
   "cell_type": "code",
   "execution_count": null,
   "metadata": {
    "id": "hR8gNlF88cTW"
   },
   "outputs": [],
   "source": [
    "amp = 1; sr = 10000; dur = 1; freq = 440; phase = 0\n",
    "c, t, theta = phasor_complex(amp, sr, dur, freq, phase)\n",
    "ipd.Audio(c.real, rate=sr)"
   ]
  }
 ],
 "metadata": {
  "colab": {
   "include_colab_link": true,
   "name": "sound_processing.ipynb",
   "provenance": []
  },
  "kernelspec": {
   "display_name": "Python 3",
   "name": "python3"
  },
  "language_info": {
   "codemirror_mode": {
    "name": "ipython",
    "version": 3
   },
   "file_extension": ".py",
   "mimetype": "text/x-python",
   "name": "python",
   "nbconvert_exporter": "python",
   "pygments_lexer": "ipython3",
   "version": "3.9.15"
  }
 },
 "nbformat": 4,
 "nbformat_minor": 0
}
